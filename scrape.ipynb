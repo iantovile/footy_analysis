{
 "cells": [
  {
   "cell_type": "code",
   "execution_count": 1,
   "id": "58e5e0fa-ffcb-41a9-a6d5-61666af71b96",
   "metadata": {},
   "outputs": [],
   "source": [
    "import requests\n",
    "from bs4 import BeautifulSoup\n",
    "import pandas as pd\n",
    "import time"
   ]
  },
  {
   "cell_type": "code",
   "execution_count": 2,
   "id": "18952e45-2230-4126-8e0f-ec348580cf86",
   "metadata": {},
   "outputs": [],
   "source": [
    "standings_url = \"https://fbref.com/en/comps/9/2020-2021/2020-2021-Premier-League-Stats\""
   ]
  },
  {
   "cell_type": "code",
   "execution_count": 3,
   "id": "2a6fc8b8-a12a-41f6-b001-8f5ed956fbae",
   "metadata": {},
   "outputs": [],
   "source": [
    "all_matches = []\n",
    "years = list(range(2020, 2018, -1))"
   ]
  },
  {
   "cell_type": "code",
   "execution_count": 8,
   "id": "1229ac65-5651-43d1-b0d2-ab5e42fdb7d5",
   "metadata": {},
   "outputs": [],
   "source": [
    "# for year in years:\n",
    "#     data = requests.get(standings_url, verify = False)\n",
    "#     soup = BeautifulSoup(data.text)\n",
    "#     standings_table = soup.select('table.stats_table')[0]\n",
    "    \n",
    "#     links = standings_table.find_all('a')\n",
    "#     links = [l.get('href') for l in links]\n",
    "#     links = [l for l in links if '/squads/' in l]\n",
    "    \n",
    "#     previous_season = soup.select('a,prev')[0].get('href')\n",
    "#     standings_url = f\"https://fbref.com{previous_season}\"\n",
    "    \n",
    "#     team_urls = [f\"https://fbref.com{l}\" for l in links]\n",
    "#     for url in team_urls:\n",
    "#         name =  url.split('/')[-1].replace(\"-stats\", \"\")\n",
    "#         data = requests.get(url, verify = False)\n",
    "#         matches = pd.read_html(data.text, match=\"Scores & Fixtures\")[0]\n",
    "        \n",
    "#         soup = BeautifulSoup(data.text)\n",
    "#         links = soup.find_all('a')\n",
    "#         links = [l.get(\"href\") for l in links]\n",
    "#         links = [l for l in links if l and 'all_comps/shooting/' in l]\n",
    "#         data = requests.get(f\"https://fbref.com{links[0]}\")\n",
    "#         shooting = pd.read_html(data.text, match=\"Shooting\")[0]\n",
    "#         shooting.columns = shooting.columns.droplevel()\n",
    "        \n",
    "#         try:\n",
    "#             team_data = matches.merge(shooting[[\"Date\", \"Sh\", \"SoT\", \"Dist\", \"FK\", \"PK\", \"PKatt\"]], on=\"Date\")\n",
    "#         except ValueError:\n",
    "#             continue\n",
    "            \n",
    "#         team_data = team_data[team_data['Comp'] == 'Premier League']\n",
    "#         team_data['Season'] = year\n",
    "#         team_data['team'] = name\n",
    "        \n",
    "#         all_matches.append(team_data)\n",
    "#         time.sleep(3)"
   ]
  },
  {
   "cell_type": "code",
   "execution_count": 5,
   "id": "59525fcf-85e0-4b2b-bf4a-11cfd37f3a2e",
   "metadata": {},
   "outputs": [],
   "source": [
    "match_df = pd.concat(all_matches)"
   ]
  },
  {
   "cell_type": "code",
   "execution_count": 7,
   "id": "02e60f57-348f-43d3-9f15-b5cf5ca79756",
   "metadata": {},
   "outputs": [],
   "source": [
    "match_df.to_csv(\"2020_2021_season.csv\")"
   ]
  },
  {
   "cell_type": "code",
   "execution_count": null,
   "id": "85db4847-baf7-45a5-a8f6-c17c15b1fb65",
   "metadata": {},
   "outputs": [],
   "source": []
  },
  {
   "cell_type": "code",
   "execution_count": null,
   "id": "2c02e793-0626-4fcd-a3f6-a1091202108d",
   "metadata": {},
   "outputs": [],
   "source": []
  }
 ],
 "metadata": {
  "kernelspec": {
   "display_name": "Python 3 (ipykernel)",
   "language": "python",
   "name": "python3"
  },
  "language_info": {
   "codemirror_mode": {
    "name": "ipython",
    "version": 3
   },
   "file_extension": ".py",
   "mimetype": "text/x-python",
   "name": "python",
   "nbconvert_exporter": "python",
   "pygments_lexer": "ipython3",
   "version": "3.9.13"
  }
 },
 "nbformat": 4,
 "nbformat_minor": 5
}
